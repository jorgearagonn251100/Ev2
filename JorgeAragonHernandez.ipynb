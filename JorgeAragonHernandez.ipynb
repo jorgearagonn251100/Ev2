{
  "nbformat": 4,
  "nbformat_minor": 0,
  "metadata": {
    "colab": {
      "provenance": []
    },
    "kernelspec": {
      "name": "python3",
      "display_name": "Python 3"
    },
    "language_info": {
      "name": "python"
    }
  },
  "cells": [
    {
      "cell_type": "markdown",
      "source": [
        "# Evaluación 2 Jorge Aragón Hernandez"
      ],
      "metadata": {
        "id": "w7iMHaKXHApV"
      }
    },
    {
      "cell_type": "code",
      "source": [
        "import numpy as np"
      ],
      "metadata": {
        "id": "6T-4kfNkHB9c"
      },
      "execution_count": 2,
      "outputs": []
    },
    {
      "cell_type": "markdown",
      "source": [
        "## Crear matriz"
      ],
      "metadata": {
        "id": "gVCjIZiMHGFg"
      }
    },
    {
      "cell_type": "code",
      "source": [
        "arrayejemplo = np.random.randint(1, 101, size=10)\n",
        "print(arrayejemplo)"
      ],
      "metadata": {
        "colab": {
          "base_uri": "https://localhost:8080/"
        },
        "id": "hD4NN2atHF1n",
        "outputId": "e724a02d-8b32-4e7f-a417-fb9b6784640e"
      },
      "execution_count": 3,
      "outputs": [
        {
          "output_type": "stream",
          "name": "stdout",
          "text": [
            "[ 31 100  87  42  26  98  95  28  91  55]\n"
          ]
        }
      ]
    },
    {
      "cell_type": "markdown",
      "source": [
        "## Reshape"
      ],
      "metadata": {
        "id": "EIuThjL8HNIQ"
      }
    },
    {
      "cell_type": "code",
      "source": [
        "matriz = arrayejemplo.reshape(2, 5)\n",
        "print (matriz)"
      ],
      "metadata": {
        "colab": {
          "base_uri": "https://localhost:8080/"
        },
        "id": "EufRqwTMHNuC",
        "outputId": "b87623b9-cff3-4c06-ad44-d3037f8d3695"
      },
      "execution_count": 4,
      "outputs": [
        {
          "output_type": "stream",
          "name": "stdout",
          "text": [
            "[[ 31 100  87  42  26]\n",
            " [ 98  95  28  91  55]]\n"
          ]
        }
      ]
    },
    {
      "cell_type": "markdown",
      "source": [
        "## Indexación\n",
        "Extraer primera fila"
      ],
      "metadata": {
        "id": "_JnQo4tlHQwi"
      }
    },
    {
      "cell_type": "code",
      "source": [
        "primerafila = matriz[0,:]\n",
        "print(primerafila)"
      ],
      "metadata": {
        "colab": {
          "base_uri": "https://localhost:8080/"
        },
        "id": "Mly1UWnqHRXo",
        "outputId": "5db1752d-80a8-4b5a-ef7a-5ad949c8e5b8"
      },
      "execution_count": 5,
      "outputs": [
        {
          "output_type": "stream",
          "name": "stdout",
          "text": [
            "[ 31 100  87  42  26]\n"
          ]
        }
      ]
    },
    {
      "cell_type": "markdown",
      "source": [
        "Extraer última columna"
      ],
      "metadata": {
        "id": "b-g_dvNwHTIp"
      }
    },
    {
      "cell_type": "code",
      "source": [
        "ultimacolumna = matriz[:, -1]\n",
        "print(ultimacolumna)"
      ],
      "metadata": {
        "colab": {
          "base_uri": "https://localhost:8080/"
        },
        "id": "0sTYl6vtHS39",
        "outputId": "b0e98c62-b543-4f86-9c55-6d4400dc284a"
      },
      "execution_count": 6,
      "outputs": [
        {
          "output_type": "stream",
          "name": "stdout",
          "text": [
            "[26 55]\n"
          ]
        }
      ]
    },
    {
      "cell_type": "markdown",
      "source": [
        "## Modificación\n",
        "Modificar la ultima fila a que todos sus elementos sean cero\n"
      ],
      "metadata": {
        "id": "F4Tv-Uj8HYqS"
      }
    },
    {
      "cell_type": "code",
      "source": [
        "matriz[1, :] = 0\n",
        "print(matriz)"
      ],
      "metadata": {
        "colab": {
          "base_uri": "https://localhost:8080/"
        },
        "id": "olHj0YpRHZmb",
        "outputId": "34120d56-cae6-48b8-a998-100428052814"
      },
      "execution_count": 7,
      "outputs": [
        {
          "output_type": "stream",
          "name": "stdout",
          "text": [
            "[[ 31 100  87  42  26]\n",
            " [  0   0   0   0   0]]\n"
          ]
        }
      ]
    },
    {
      "cell_type": "markdown",
      "source": [
        "# Operaciones básicas\n",
        "Creación de arrays"
      ],
      "metadata": {
        "id": "HHTvOc0oHfqt"
      }
    },
    {
      "cell_type": "code",
      "source": [
        "arreglo1 = np.random.randint(1, 51, size=5)\n",
        "arreglo2 = np.random.randint(1, 51, size=5)\n",
        "print(\"Arreglo 1: \", arreglo1)\n",
        "print(\"Arreglo 2: \", arreglo2)"
      ],
      "metadata": {
        "colab": {
          "base_uri": "https://localhost:8080/"
        },
        "id": "qcsXe775HhG4",
        "outputId": "4c6935bc-31aa-4666-bf32-53e2ece0a2cb"
      },
      "execution_count": 8,
      "outputs": [
        {
          "output_type": "stream",
          "name": "stdout",
          "text": [
            "Arreglo 1:  [33 46 23 11 46]\n",
            "Arreglo 2:  [22 32 43 21 42]\n"
          ]
        }
      ]
    },
    {
      "cell_type": "markdown",
      "source": [
        "Suma de arrays"
      ],
      "metadata": {
        "id": "XdGvqrZ5Hj2L"
      }
    },
    {
      "cell_type": "code",
      "source": [
        "suma = arreglo1 + arreglo2\n",
        "print(\"La suma es: \" ,suma)"
      ],
      "metadata": {
        "colab": {
          "base_uri": "https://localhost:8080/"
        },
        "id": "r6aRr8S4HlWw",
        "outputId": "82e1113e-d10f-48ed-d90c-4122a86e3f5f"
      },
      "execution_count": 10,
      "outputs": [
        {
          "output_type": "stream",
          "name": "stdout",
          "text": [
            "La suma es:  [55 78 66 32 88]\n"
          ]
        }
      ]
    },
    {
      "cell_type": "markdown",
      "source": [
        "Multiplicación de arrays"
      ],
      "metadata": {
        "id": "nxwoneKBHpEk"
      }
    },
    {
      "cell_type": "code",
      "source": [
        "multi = arreglo1 * arreglo2\n",
        "print(\"La multiplicación es: \", multi)"
      ],
      "metadata": {
        "colab": {
          "base_uri": "https://localhost:8080/"
        },
        "id": "7ji4Y_cBHp-V",
        "outputId": "e0132e8a-73f8-4788-e9da-18f8071bc97c"
      },
      "execution_count": 11,
      "outputs": [
        {
          "output_type": "stream",
          "name": "stdout",
          "text": [
            "La multiplicación es:  [ 726 1472  989  231 1932]\n"
          ]
        }
      ]
    },
    {
      "cell_type": "markdown",
      "source": [
        "Promedio y desviación de la suma\n"
      ],
      "metadata": {
        "id": "aGvxItZvHs_j"
      }
    },
    {
      "cell_type": "code",
      "source": [
        "promedio_suma = np.mean(suma)\n",
        "desviacion_suma = np.std(suma)\n",
        "\n",
        "print(\"Promedio de la suma : \",promedio_suma)\n",
        "print(\"Desviación de la suma : \",desviacion_suma)"
      ],
      "metadata": {
        "colab": {
          "base_uri": "https://localhost:8080/"
        },
        "id": "HTyVyYWzHtxk",
        "outputId": "4ce16049-e547-41b4-8f4d-f122117df5cf"
      },
      "execution_count": 13,
      "outputs": [
        {
          "output_type": "stream",
          "name": "stdout",
          "text": [
            "Promedio de la suma :  63.8\n",
            "Desviación de la suma :  19.39484467584105\n"
          ]
        }
      ]
    },
    {
      "cell_type": "markdown",
      "source": [
        "Promedio y desviación de la multiplicación"
      ],
      "metadata": {
        "id": "RX8NkW3NHzsO"
      }
    },
    {
      "cell_type": "code",
      "source": [
        "promedio_multi = np.mean(multi)\n",
        "desviacion_multi = np.std(multi)\n",
        "print(\"Promedio de la suma : \",promedio_multi)\n",
        "print(\"Desviación de la suma : \",desviacion_multi)"
      ],
      "metadata": {
        "colab": {
          "base_uri": "https://localhost:8080/"
        },
        "id": "BC-ssjTQH0Om",
        "outputId": "b97fcd0a-b875-408b-e872-06e4ca4068e4"
      },
      "execution_count": 14,
      "outputs": [
        {
          "output_type": "stream",
          "name": "stdout",
          "text": [
            "Promedio de la suma :  1070.0\n",
            "Desviación de la suma :  588.8065896370387\n"
          ]
        }
      ]
    },
    {
      "cell_type": "markdown",
      "source": [
        "# Operaciones lógicas"
      ],
      "metadata": {
        "id": "5J3xxZYfH3iU"
      }
    },
    {
      "cell_type": "code",
      "source": [
        "arraylogico = np.random.rand(20)\n",
        "arraylogico[arraylogico < 0.5] = 0\n",
        "arraylogico[arraylogico >= 0.5] = 1\n",
        "\n",
        "print(arraylogico)"
      ],
      "metadata": {
        "colab": {
          "base_uri": "https://localhost:8080/"
        },
        "id": "vwOHtJ-KH46k",
        "outputId": "afbb0027-2986-4612-9b64-50359bdb3f81"
      },
      "execution_count": 15,
      "outputs": [
        {
          "output_type": "stream",
          "name": "stdout",
          "text": [
            "[0. 1. 0. 1. 0. 1. 1. 1. 0. 1. 0. 0. 1. 0. 1. 0. 0. 1. 0. 1.]\n"
          ]
        }
      ]
    },
    {
      "cell_type": "markdown",
      "source": [
        "Producto escalar"
      ],
      "metadata": {
        "id": "xWwbWUyIH8gy"
      }
    },
    {
      "cell_type": "code",
      "source": [
        "array1 = np.random.rand(3, 3)\n",
        "array2 = np.random.rand(3, 3)\n",
        "producto_escalar = np.dot(array1, array2)\n",
        "print(\"Array 1: \", array1)\n",
        "print(\"Array 2: \", array2)\n",
        "print(\"Producto escalar: \" , producto_escalar)"
      ],
      "metadata": {
        "colab": {
          "base_uri": "https://localhost:8080/"
        },
        "id": "EkwPN7x3ICq0",
        "outputId": "2d4cf2ff-dcf3-40ec-dca3-201bd0602a49"
      },
      "execution_count": 16,
      "outputs": [
        {
          "output_type": "stream",
          "name": "stdout",
          "text": [
            "Array 1:  [[0.37179982 0.47276346 0.84807496]\n",
            " [0.01447364 0.38616323 0.35621266]\n",
            " [0.75523552 0.41762211 0.08254227]]\n",
            "Array 2:  [[0.45764854 0.35417699 0.91167759]\n",
            " [0.42702316 0.85821556 0.29718659]\n",
            " [0.69984748 0.31906764 0.25315297]]\n",
            "Producto escalar:  [[0.96555772 0.80800918 0.69415322]\n",
            " [0.42081901 0.45019346 0.21813412]\n",
            " [0.58173375 0.65223341 0.83353881]]\n"
          ]
        }
      ]
    },
    {
      "cell_type": "markdown",
      "source": [
        "# Análisis de datos"
      ],
      "metadata": {
        "id": "ugnQQZEKIEtQ"
      }
    },
    {
      "cell_type": "code",
      "source": [
        "arraydatos = np.random.randint(1, 21, size=(5, 4))\n",
        "\n",
        "print(arraydatos)"
      ],
      "metadata": {
        "colab": {
          "base_uri": "https://localhost:8080/"
        },
        "id": "KRqJoKaSIFc7",
        "outputId": "a8345265-ea93-4b9c-9cac-29b93a0eb32b"
      },
      "execution_count": 20,
      "outputs": [
        {
          "output_type": "stream",
          "name": "stdout",
          "text": [
            "[[17  8 13  3]\n",
            " [20 15 13  4]\n",
            " [ 3 14 19 13]\n",
            " [20 13  5 15]\n",
            " [11 11  3 15]]\n"
          ]
        }
      ]
    },
    {
      "cell_type": "markdown",
      "source": [
        "Media"
      ],
      "metadata": {
        "id": "FF40oq5oIJHC"
      }
    },
    {
      "cell_type": "code",
      "source": [
        "media = np.mean(arraydatos, axis=0)\n",
        "print(\"Medición):\", media)"
      ],
      "metadata": {
        "colab": {
          "base_uri": "https://localhost:8080/"
        },
        "id": "3FPiX3cVIJiJ",
        "outputId": "9b98fbc3-0d0a-4dce-9be9-fad32e51d5fb"
      },
      "execution_count": 18,
      "outputs": [
        {
          "output_type": "stream",
          "name": "stdout",
          "text": [
            "Medición): [ 8.8 12.2 10.4  9.4]\n"
          ]
        }
      ]
    },
    {
      "cell_type": "markdown",
      "source": [
        "Valor mínimo y máximo"
      ],
      "metadata": {
        "id": "wncFvhXfIND6"
      }
    },
    {
      "cell_type": "code",
      "source": [
        "# Máximo de fila\n",
        "max_filas = np.max(arraydatos, axis=1)\n",
        "# Mínimo de fila\n",
        "min_filas = np.min(arraydatos, axis=1)\n",
        "# Para imprimirlo hay que hacer un ciclo que nos vaya mostrando\n",
        "for i in range(arraydatos.shape[0]):\n",
        "    print(f\"La fila es: {i + 1}, el máximo = {max_filas[i]}, el mínimo = {min_filas[i]}\")"
      ],
      "metadata": {
        "colab": {
          "base_uri": "https://localhost:8080/"
        },
        "id": "Rl4rVNZfINhl",
        "outputId": "a03bbb7a-04c9-4fdb-c2e4-efbbfa27d4d2"
      },
      "execution_count": 19,
      "outputs": [
        {
          "output_type": "stream",
          "name": "stdout",
          "text": [
            "La fila es: 1, el máximo = 17, el mínimo = 6\n",
            "La fila es: 2, el máximo = 15, el mínimo = 9\n",
            "La fila es: 3, el máximo = 11, el mínimo = 1\n",
            "La fila es: 4, el máximo = 15, el mínimo = 4\n",
            "La fila es: 5, el máximo = 16, el mínimo = 5\n"
          ]
        }
      ]
    },
    {
      "cell_type": "markdown",
      "source": [
        "Ordenar"
      ],
      "metadata": {
        "id": "WTOOzEdtIguP"
      }
    },
    {
      "cell_type": "code",
      "source": [
        "ordenados = np.argsort(arraydatos[:, 1])\n",
        "matrizordenada = arraydatos[ordenados]\n",
        "print(\"Matriz ordenada :\", matrizordenada)"
      ],
      "metadata": {
        "colab": {
          "base_uri": "https://localhost:8080/"
        },
        "id": "pKEcLljcIiTg",
        "outputId": "e21dd3bb-66c3-4e31-b6a4-f6ded511da32"
      },
      "execution_count": 22,
      "outputs": [
        {
          "output_type": "stream",
          "name": "stdout",
          "text": [
            "Matriz ordenada : [[17  8 13  3]\n",
            " [11 11  3 15]\n",
            " [20 13  5 15]\n",
            " [ 3 14 19 13]\n",
            " [20 15 13  4]]\n"
          ]
        }
      ]
    }
  ]
}